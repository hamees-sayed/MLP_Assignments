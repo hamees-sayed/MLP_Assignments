{
 "cells": [
  {
   "cell_type": "code",
   "execution_count": 115,
   "metadata": {},
   "outputs": [],
   "source": [
    "import pandas as pd\n",
    "from datetime import datetime"
   ]
  },
  {
   "cell_type": "code",
   "execution_count": 116,
   "metadata": {},
   "outputs": [],
   "source": [
    "df = pd.read_csv(\"dataset.csv\")"
   ]
  },
  {
   "cell_type": "code",
   "execution_count": 117,
   "metadata": {},
   "outputs": [
    {
     "data": {
      "text/plain": [
       "(9450, 13)"
      ]
     },
     "execution_count": 117,
     "metadata": {},
     "output_type": "execute_result"
    }
   ],
   "source": [
    "df.shape"
   ]
  },
  {
   "cell_type": "code",
   "execution_count": 118,
   "metadata": {},
   "outputs": [
    {
     "data": {
      "text/html": [
       "<div>\n",
       "<style scoped>\n",
       "    .dataframe tbody tr th:only-of-type {\n",
       "        vertical-align: middle;\n",
       "    }\n",
       "\n",
       "    .dataframe tbody tr th {\n",
       "        vertical-align: top;\n",
       "    }\n",
       "\n",
       "    .dataframe thead th {\n",
       "        text-align: right;\n",
       "    }\n",
       "</style>\n",
       "<table border=\"1\" class=\"dataframe\">\n",
       "  <thead>\n",
       "    <tr style=\"text-align: right;\">\n",
       "      <th></th>\n",
       "      <th>Airline</th>\n",
       "      <th>Source</th>\n",
       "      <th>Destination</th>\n",
       "      <th>Route</th>\n",
       "      <th>Dep_Time</th>\n",
       "      <th>Arrival_Time</th>\n",
       "      <th>Duration</th>\n",
       "      <th>Total_Stops</th>\n",
       "      <th>Additional_Info</th>\n",
       "      <th>Price</th>\n",
       "      <th>Month</th>\n",
       "      <th>WeekDay</th>\n",
       "      <th>Day</th>\n",
       "    </tr>\n",
       "  </thead>\n",
       "  <tbody>\n",
       "    <tr>\n",
       "      <th>0</th>\n",
       "      <td>Jet Airways</td>\n",
       "      <td>Delhi</td>\n",
       "      <td>Banglore</td>\n",
       "      <td>DEL → BOM → COK</td>\n",
       "      <td>20:00</td>\n",
       "      <td>04:25 10 Jun</td>\n",
       "      <td>26h 35m</td>\n",
       "      <td>1 stop</td>\n",
       "      <td>In-flight meal not included</td>\n",
       "      <td>14924</td>\n",
       "      <td>6</td>\n",
       "      <td>Thursday</td>\n",
       "      <td>6.0</td>\n",
       "    </tr>\n",
       "    <tr>\n",
       "      <th>1</th>\n",
       "      <td>Jet Airways</td>\n",
       "      <td>Delhi</td>\n",
       "      <td>Cochin</td>\n",
       "      <td>DEL → BOM → COK</td>\n",
       "      <td>16:00</td>\n",
       "      <td>19:00 10 Jun</td>\n",
       "      <td>27h</td>\n",
       "      <td>1 stop</td>\n",
       "      <td>In-flight meal not included</td>\n",
       "      <td>10577</td>\n",
       "      <td>6</td>\n",
       "      <td>Sunday</td>\n",
       "      <td>9.0</td>\n",
       "    </tr>\n",
       "    <tr>\n",
       "      <th>2</th>\n",
       "      <td>Jet Airways</td>\n",
       "      <td>Mumbai</td>\n",
       "      <td>Hyderabad</td>\n",
       "      <td>BOM → HYD</td>\n",
       "      <td>19:35</td>\n",
       "      <td>21:05</td>\n",
       "      <td>1h 30m</td>\n",
       "      <td>non-stop</td>\n",
       "      <td>No info</td>\n",
       "      <td>5678</td>\n",
       "      <td>3</td>\n",
       "      <td>Friday</td>\n",
       "      <td>15.0</td>\n",
       "    </tr>\n",
       "    <tr>\n",
       "      <th>3</th>\n",
       "      <td>Multiple carriers</td>\n",
       "      <td>Delhi</td>\n",
       "      <td>Banglore</td>\n",
       "      <td>DEL → BOM → COK</td>\n",
       "      <td>18:55</td>\n",
       "      <td>01:30 16 Jun</td>\n",
       "      <td>15h 10m</td>\n",
       "      <td>1 stop</td>\n",
       "      <td>In-flight meal not included</td>\n",
       "      <td>7408</td>\n",
       "      <td>5</td>\n",
       "      <td>Monday</td>\n",
       "      <td>6.0</td>\n",
       "    </tr>\n",
       "    <tr>\n",
       "      <th>4</th>\n",
       "      <td>Air India</td>\n",
       "      <td>Delhi</td>\n",
       "      <td>Cochin</td>\n",
       "      <td>DEL → COK</td>\n",
       "      <td>17:10</td>\n",
       "      <td>17:55</td>\n",
       "      <td>8h 20m</td>\n",
       "      <td>non-stop</td>\n",
       "      <td>No info</td>\n",
       "      <td>6724</td>\n",
       "      <td>6</td>\n",
       "      <td>Monday</td>\n",
       "      <td>24.0</td>\n",
       "    </tr>\n",
       "  </tbody>\n",
       "</table>\n",
       "</div>"
      ],
      "text/plain": [
       "             Airline  Source Destination            Route Dep_Time  \\\n",
       "0        Jet Airways   Delhi    Banglore  DEL → BOM → COK    20:00   \n",
       "1        Jet Airways   Delhi      Cochin  DEL → BOM → COK    16:00   \n",
       "2        Jet Airways  Mumbai   Hyderabad        BOM → HYD    19:35   \n",
       "3  Multiple carriers   Delhi    Banglore  DEL → BOM → COK    18:55   \n",
       "4          Air India   Delhi      Cochin        DEL → COK    17:10   \n",
       "\n",
       "   Arrival_Time Duration Total_Stops              Additional_Info  Price  \\\n",
       "0  04:25 10 Jun  26h 35m      1 stop  In-flight meal not included  14924   \n",
       "1  19:00 10 Jun      27h      1 stop  In-flight meal not included  10577   \n",
       "2         21:05   1h 30m    non-stop                      No info   5678   \n",
       "3  01:30 16 Jun  15h 10m      1 stop  In-flight meal not included   7408   \n",
       "4         17:55   8h 20m    non-stop                      No info   6724   \n",
       "\n",
       "   Month   WeekDay   Day  \n",
       "0      6  Thursday   6.0  \n",
       "1      6    Sunday   9.0  \n",
       "2      3    Friday  15.0  \n",
       "3      5    Monday   6.0  \n",
       "4      6    Monday  24.0  "
      ]
     },
     "execution_count": 118,
     "metadata": {},
     "output_type": "execute_result"
    }
   ],
   "source": [
    "df.head()"
   ]
  },
  {
   "cell_type": "markdown",
   "metadata": {},
   "source": [
    "What is the average of the flight ticket price? Write your answer correct to two decimal places."
   ]
  },
  {
   "cell_type": "code",
   "execution_count": 119,
   "metadata": {},
   "outputs": [
    {
     "name": "stdout",
     "output_type": "stream",
     "text": [
      "Average of flight ticket price: 9027.90\n"
     ]
    }
   ],
   "source": [
    "flight_mean = df[\"Price\"].mean()\n",
    "print(f\"Average of flight ticket price: {flight_mean:.2f}\")"
   ]
  },
  {
   "cell_type": "markdown",
   "metadata": {},
   "source": [
    "During which month did the highest number of flights occur? Months are represented by numerical codes, with January corresponding to 1, February to 2, and so forth."
   ]
  },
  {
   "cell_type": "code",
   "execution_count": 120,
   "metadata": {},
   "outputs": [
    {
     "name": "stdout",
     "output_type": "stream",
     "text": [
      "Most flights occurred in May (5)\n"
     ]
    }
   ],
   "source": [
    "most_flights = df[\"Month\"].mode()\n",
    "print(f\"Most flights occurred in May (5)\")"
   ]
  },
  {
   "cell_type": "markdown",
   "metadata": {},
   "source": [
    "Is the average price of flight tickets higher on weekends (Saturday and Sunday) or on weekdays (Remaining 5 days)?"
   ]
  },
  {
   "cell_type": "code",
   "execution_count": 121,
   "metadata": {},
   "outputs": [
    {
     "name": "stdout",
     "output_type": "stream",
     "text": [
      "Average flight price on weekends: 9058.016077170418\n",
      "Average flight price on weekdays: 9015.219666215608\n"
     ]
    }
   ],
   "source": [
    "flight_price_weekend = df[(df[\"WeekDay\"]==\"Sunday\") | (df[\"WeekDay\"]==\"Saturday\")][\"Price\"].mean()\n",
    "flight_price_weekday = df[(df[\"WeekDay\"]!=\"Sunday\") & (df[\"WeekDay\"]!=\"Saturday\")][\"Price\"].mean()\n",
    "\n",
    "print(f\"Average flight price on weekends: {flight_price_weekend}\\nAverage flight price on weekdays: {flight_price_weekday}\")"
   ]
  },
  {
   "cell_type": "markdown",
   "metadata": {},
   "source": [
    "Two of the entries in the 'Additional_Info' column are 'No info' and 'No Info'. Replace all occurrences of 'No Info' with 'No info'. How many flights fall under airline 'IndiGo' and have 'No info' as additional information?"
   ]
  },
  {
   "cell_type": "code",
   "execution_count": 122,
   "metadata": {},
   "outputs": [
    {
     "name": "stdout",
     "output_type": "stream",
     "text": [
      "Number of Indigo flights with no info: 1650\n"
     ]
    }
   ],
   "source": [
    "df[\"Additional_Info\"] = df[\"Additional_Info\"].replace(\"No Info\", \"No info\")\n",
    "no_info_indigo = df[(df[\"Additional_Info\"]==\"No info\") & (df[\"Airline\"]==\"IndiGo\")]\n",
    "\n",
    "print(f\"Number of Indigo flights with no info: {no_info_indigo.shape[0]}\")"
   ]
  },
  {
   "cell_type": "markdown",
   "metadata": {},
   "source": [
    "Convert the values of 'Duration' into seconds. Enter the average duration (in seconds) of a flight. Enter your answer correct to two decimal places."
   ]
  },
  {
   "cell_type": "code",
   "execution_count": 123,
   "metadata": {},
   "outputs": [
    {
     "name": "stdout",
     "output_type": "stream",
     "text": [
      "Average duration of a flight: 38957.94\n"
     ]
    }
   ],
   "source": [
    "def convert_time(time_string):\n",
    "    parts = time_string.split()\n",
    "    \n",
    "    hours = 0\n",
    "    minutes = 0\n",
    "\n",
    "    for part in parts:\n",
    "        if part[-1] == 'h':\n",
    "            hours = int(part[:-1])\n",
    "        elif part[-1] == 'm':\n",
    "            minutes = int(part[:-1])\n",
    "\n",
    "    total_seconds = hours * 3600 + minutes * 60\n",
    "    return total_seconds\n",
    "\n",
    "\n",
    "df[\"Duration\"] = df[\"Duration\"].apply(lambda x: convert_time(x))\n",
    "\n",
    "avg_dur = df[\"Duration\"].mean()\n",
    "\n",
    "print(f\"Average duration of a flight: {avg_dur:.2f}\")"
   ]
  },
  {
   "cell_type": "markdown",
   "metadata": {},
   "source": [
    "#### Apply the following functions to the columns Dep_Time and Arrival_Time:\n",
    "\n",
    "Transform the values in the 'dep_time' and 'arrival_time' columns to represent the hour component. For instance, if an entry is 10:05 June 13 or 10:05, the corresponding value should be 10.   \n",
    "\n",
    "Then convert the time into four categories as follows:\n",
    "- 5 <= hour < 12 = Morning \n",
    "- 12 <= hour < 17 = Afternoon \n",
    "- 17 <= hour < 20 = Evening \n",
    "- 20 <= hour < 5 = Night\n"
   ]
  },
  {
   "cell_type": "markdown",
   "metadata": {},
   "source": [
    "How many flights started in the Morning and arrived the destination at Evening?"
   ]
  },
  {
   "cell_type": "code",
   "execution_count": 124,
   "metadata": {},
   "outputs": [
    {
     "name": "stdout",
     "output_type": "stream",
     "text": [
      "Number of flights that started in morning and arrived in evening: 922\n"
     ]
    }
   ],
   "source": [
    "def extract_hour(time_string):\n",
    "    try:\n",
    "        # Parse the time string using datetime\n",
    "        if len(time_string) > 5:\n",
    "            time_format = \"%H:%M %d %b\"\n",
    "        else:\n",
    "            time_format = \"%H:%M\"\n",
    "        parsed_time = datetime.strptime(time_string, time_format)\n",
    "\n",
    "        # Extract the hour from the parsed time\n",
    "        hour = parsed_time.hour\n",
    "        return hour\n",
    "    except ValueError:\n",
    "        print(f\"Error: Unable to parse time string '{time_string}'\")\n",
    "        return None\n",
    "\n",
    "df[\"Dep_Time\"] = df[\"Dep_Time\"].apply(lambda x: extract_hour(x))\n",
    "df[\"Arrival_Time\"] = df[\"Arrival_Time\"].apply(lambda x: extract_hour(x))\n",
    "\n",
    "df_morning = df[(df[\"Dep_Time\"]>=5) & (df[\"Dep_Time\"]<12) & (df[\"Arrival_Time\"]<20) & (df[\"Arrival_Time\"]>=17)]\n",
    "\n",
    "print(f\"Number of flights that started in morning and arrived in evening: {df_morning.shape[0]}\")"
   ]
  },
  {
   "cell_type": "markdown",
   "metadata": {},
   "source": [
    "Encode the values of column 'WeekDay' as follows:\n",
    "Weekends (Sunday, Saturday) = 1\n",
    "all remaining five days = 0\n",
    "What is the most frequent (mode) WeekDay?"
   ]
  },
  {
   "cell_type": "code",
   "execution_count": 125,
   "metadata": {},
   "outputs": [
    {
     "name": "stdout",
     "output_type": "stream",
     "text": [
      "Weekend flights: 2799\n",
      "Weekday flights: 6651\n"
     ]
    }
   ],
   "source": [
    "def encode_weekdays(weekday):\n",
    "    if weekday == \"Saturday\" or weekday == \"Sunday\":\n",
    "        return 1\n",
    "    else:\n",
    "        return 0\n",
    "\n",
    "df[\"WeekDay\"] = df[\"WeekDay\"].apply(encode_weekdays)\n",
    "\n",
    "weekend_count = (df[\"WeekDay\"]==1).sum()\n",
    "weekday_count = (df[\"WeekDay\"]==0).sum()\n",
    "\n",
    "print(f\"Weekend flights: {weekend_count}\\nWeekday flights: {weekday_count}\")"
   ]
  },
  {
   "cell_type": "code",
   "execution_count": null,
   "metadata": {},
   "outputs": [],
   "source": []
  }
 ],
 "metadata": {
  "kernelspec": {
   "display_name": "Python 3",
   "language": "python",
   "name": "python3"
  },
  "language_info": {
   "codemirror_mode": {
    "name": "ipython",
    "version": 3
   },
   "file_extension": ".py",
   "mimetype": "text/x-python",
   "name": "python",
   "nbconvert_exporter": "python",
   "pygments_lexer": "ipython3",
   "version": "3.12.3"
  }
 },
 "nbformat": 4,
 "nbformat_minor": 2
}
