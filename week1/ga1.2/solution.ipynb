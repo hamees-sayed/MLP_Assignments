{
 "cells": [
  {
   "cell_type": "code",
   "execution_count": 37,
   "metadata": {},
   "outputs": [],
   "source": [
    "import pandas as pd"
   ]
  },
  {
   "cell_type": "code",
   "execution_count": 38,
   "metadata": {},
   "outputs": [],
   "source": [
    "df = pd.read_csv(\"dataset.csv\")"
   ]
  },
  {
   "cell_type": "code",
   "execution_count": 61,
   "metadata": {},
   "outputs": [
    {
     "data": {
      "text/html": [
       "<div>\n",
       "<style scoped>\n",
       "    .dataframe tbody tr th:only-of-type {\n",
       "        vertical-align: middle;\n",
       "    }\n",
       "\n",
       "    .dataframe tbody tr th {\n",
       "        vertical-align: top;\n",
       "    }\n",
       "\n",
       "    .dataframe thead th {\n",
       "        text-align: right;\n",
       "    }\n",
       "</style>\n",
       "<table border=\"1\" class=\"dataframe\">\n",
       "  <thead>\n",
       "    <tr style=\"text-align: right;\">\n",
       "      <th></th>\n",
       "      <th>Date</th>\n",
       "      <th>Year</th>\n",
       "      <th>Locality</th>\n",
       "      <th>Estimated Value</th>\n",
       "      <th>Sale Price</th>\n",
       "      <th>Property</th>\n",
       "      <th>Residential</th>\n",
       "      <th>num_rooms</th>\n",
       "      <th>num_bathrooms</th>\n",
       "      <th>carpet_area</th>\n",
       "      <th>property_tax_rate</th>\n",
       "      <th>Face</th>\n",
       "    </tr>\n",
       "  </thead>\n",
       "  <tbody>\n",
       "    <tr>\n",
       "      <th>0</th>\n",
       "      <td>2009-01-02</td>\n",
       "      <td>2009</td>\n",
       "      <td>Waterbury</td>\n",
       "      <td>111440.0</td>\n",
       "      <td>185000.0</td>\n",
       "      <td>Single Family</td>\n",
       "      <td>Detached House</td>\n",
       "      <td>3</td>\n",
       "      <td>3</td>\n",
       "      <td>996.0</td>\n",
       "      <td>1.025953</td>\n",
       "      <td>South</td>\n",
       "    </tr>\n",
       "    <tr>\n",
       "      <th>1</th>\n",
       "      <td>2009-01-02</td>\n",
       "      <td>2009</td>\n",
       "      <td>Bridgeport</td>\n",
       "      <td>124670.0</td>\n",
       "      <td>150000.0</td>\n",
       "      <td>Two Family</td>\n",
       "      <td>Duplex</td>\n",
       "      <td>4</td>\n",
       "      <td>3</td>\n",
       "      <td>1241.0</td>\n",
       "      <td>1.025953</td>\n",
       "      <td>South</td>\n",
       "    </tr>\n",
       "    <tr>\n",
       "      <th>2</th>\n",
       "      <td>2009-01-02</td>\n",
       "      <td>2009</td>\n",
       "      <td>Waterbury</td>\n",
       "      <td>55720.0</td>\n",
       "      <td>140000.0</td>\n",
       "      <td>Single Family</td>\n",
       "      <td>Detached House</td>\n",
       "      <td>3</td>\n",
       "      <td>2</td>\n",
       "      <td>910.0</td>\n",
       "      <td>1.025953</td>\n",
       "      <td>South</td>\n",
       "    </tr>\n",
       "    <tr>\n",
       "      <th>3</th>\n",
       "      <td>2009-01-02</td>\n",
       "      <td>2009</td>\n",
       "      <td>Bridgeport</td>\n",
       "      <td>4775276.0</td>\n",
       "      <td>272900.0</td>\n",
       "      <td>Single Family</td>\n",
       "      <td>Detached House</td>\n",
       "      <td>3</td>\n",
       "      <td>1</td>\n",
       "      <td>971.0</td>\n",
       "      <td>1.025953</td>\n",
       "      <td>East</td>\n",
       "    </tr>\n",
       "    <tr>\n",
       "      <th>4</th>\n",
       "      <td>2009-01-02</td>\n",
       "      <td>2009</td>\n",
       "      <td>Bridgeport</td>\n",
       "      <td>112351.0</td>\n",
       "      <td>210000.0</td>\n",
       "      <td>?</td>\n",
       "      <td>Detached House</td>\n",
       "      <td>3</td>\n",
       "      <td>2</td>\n",
       "      <td>1092.0</td>\n",
       "      <td>1.025953</td>\n",
       "      <td>East</td>\n",
       "    </tr>\n",
       "  </tbody>\n",
       "</table>\n",
       "</div>"
      ],
      "text/plain": [
       "         Date  Year    Locality  Estimated Value  Sale Price       Property  \\\n",
       "0  2009-01-02  2009   Waterbury         111440.0    185000.0  Single Family   \n",
       "1  2009-01-02  2009  Bridgeport         124670.0    150000.0     Two Family   \n",
       "2  2009-01-02  2009   Waterbury          55720.0    140000.0  Single Family   \n",
       "3  2009-01-02  2009  Bridgeport        4775276.0    272900.0  Single Family   \n",
       "4  2009-01-02  2009  Bridgeport         112351.0    210000.0              ?   \n",
       "\n",
       "      Residential  num_rooms  num_bathrooms  carpet_area  property_tax_rate  \\\n",
       "0  Detached House          3              3        996.0           1.025953   \n",
       "1          Duplex          4              3       1241.0           1.025953   \n",
       "2  Detached House          3              2        910.0           1.025953   \n",
       "3  Detached House          3              1        971.0           1.025953   \n",
       "4  Detached House          3              2       1092.0           1.025953   \n",
       "\n",
       "    Face  \n",
       "0  South  \n",
       "1  South  \n",
       "2  South  \n",
       "3   East  \n",
       "4   East  "
      ]
     },
     "execution_count": 61,
     "metadata": {},
     "output_type": "execute_result"
    }
   ],
   "source": [
    "df.head()"
   ]
  },
  {
   "cell_type": "markdown",
   "metadata": {},
   "source": [
    "Select all the even indexed rows from the given dataset. What is the value in the 3rd indexed column of the 0th indexed row in the selected dataframe. (row/ column indexed from zero(0) in python/pandas)"
   ]
  },
  {
   "cell_type": "code",
   "execution_count": 40,
   "metadata": {},
   "outputs": [
    {
     "name": "stdout",
     "output_type": "stream",
     "text": [
      "value in the 3rd indexed column of the 0th indexed row is 111440.0\n"
     ]
    }
   ],
   "source": [
    "df_even = df.iloc[::2]\n",
    "value = df_even.iloc[0, 3]\n",
    "print(f\"value in the 3rd indexed column of the 0th indexed row is {value}\")"
   ]
  },
  {
   "cell_type": "markdown",
   "metadata": {},
   "source": [
    "Select all the even indexed rows from the given dataset. What is the value in the 3rd indexed column of the 332th indexed row in the selected dataframe. (row/ column indexed from zero(0))"
   ]
  },
  {
   "cell_type": "code",
   "execution_count": 41,
   "metadata": {},
   "outputs": [
    {
     "name": "stdout",
     "output_type": "stream",
     "text": [
      "value in the 3rd indexed column of the 332th indexed row is 256200.0\n"
     ]
    }
   ],
   "source": [
    "value_2 = df_even.iloc[332, 3]\n",
    "print(f\"value in the 3rd indexed column of the 332th indexed row is {value_2}\")"
   ]
  },
  {
   "cell_type": "markdown",
   "metadata": {},
   "source": [
    "Select all the odd indexed rows from the given dataset. What is the value in the 3rd indexed column of the 332th indexed row in the selected dataframe. (row/ column indexed from zero(0))\n",
    " Please consider case sensitivity while giving your solution capital letter ≠ small letter\n",
    "  If it is a string don't write quotes in the solution."
   ]
  },
  {
   "cell_type": "code",
   "execution_count": 42,
   "metadata": {},
   "outputs": [
    {
     "name": "stdout",
     "output_type": "stream",
     "text": [
      "value in the 3rd indexed column of the 332th indexed row is 352940.0\n"
     ]
    }
   ],
   "source": [
    "df_odd = df.iloc[1::2, :]\n",
    "value_3 = df_odd.iloc[332, 3]\n",
    "print(f\"value in the 3rd indexed column of the 332th indexed row is {value_3}\")"
   ]
  },
  {
   "cell_type": "markdown",
   "metadata": {},
   "source": [
    "Select all the odd indexed columns from the given dataset. What is the value in the 5th indexed column of the 100th indexed row in the selected dataframe. (row/ column indexed from zero(0))\n",
    "Please consider case sensitivity while giving your solution capital letter ≠ small letter\n",
    "If it is a string don't write quotes in the solution.\n",
    "\n",
    "A) Single Family\n",
    "\n",
    "B) West\n",
    "\n",
    "C) 2022\n",
    "\n",
    "D) Detached House\n"
   ]
  },
  {
   "cell_type": "code",
   "execution_count": 43,
   "metadata": {},
   "outputs": [
    {
     "data": {
      "text/plain": [
       "'Single Family'"
      ]
     },
     "execution_count": 43,
     "metadata": {},
     "output_type": "execute_result"
    }
   ],
   "source": [
    "df_odd.iloc[100, 5]"
   ]
  },
  {
   "cell_type": "markdown",
   "metadata": {},
   "source": [
    "Select all the even indexed columns and even indexed rows from the given dataset. What is the value in the 3th indexed column of the 255th indexed row in the selected dataframe. (row/ column indexed/starts from zero(0))\n",
    "Please consider case sensitivity while giving your solution capital letter ≠ small letter\n",
    "If it is a string don't write quotes in the solution."
   ]
  },
  {
   "cell_type": "code",
   "execution_count": 44,
   "metadata": {},
   "outputs": [
    {
     "data": {
      "text/plain": [
       "'Detached House'"
      ]
     },
     "execution_count": 44,
     "metadata": {},
     "output_type": "execute_result"
    }
   ],
   "source": [
    "df_even_even = df.iloc[0::2, 0::2]\n",
    "df_even_even.iloc[255, 3]"
   ]
  },
  {
   "cell_type": "markdown",
   "metadata": {},
   "source": [
    "Determine the number of samples (rows) in the dataset that belong to the six most recent years, based on the provided data."
   ]
  },
  {
   "cell_type": "code",
   "execution_count": 56,
   "metadata": {},
   "outputs": [
    {
     "data": {
      "text/plain": [
       "5548"
      ]
     },
     "execution_count": 56,
     "metadata": {},
     "output_type": "execute_result"
    }
   ],
   "source": [
    "years = sorted(df['Year'].unique()[-7:], reverse=True)\n",
    "df_years = df[df['Year'].isin(years)]\n",
    "len(df_years)"
   ]
  },
  {
   "cell_type": "markdown",
   "metadata": {},
   "source": [
    "Determine the number of samples (rows) in the dataset which has num_rooms = 3 and num_bathrooms = 3"
   ]
  },
  {
   "cell_type": "code",
   "execution_count": 57,
   "metadata": {},
   "outputs": [
    {
     "data": {
      "text/plain": [
       "2730"
      ]
     },
     "execution_count": 57,
     "metadata": {},
     "output_type": "execute_result"
    }
   ],
   "source": [
    "num_3 = df[(df['num_rooms']==3)&(df['num_bathrooms']==3)]\n",
    "len(num_3)"
   ]
  },
  {
   "cell_type": "markdown",
   "metadata": {},
   "source": [
    "Determine the number of samples (rows) in the dataset which has num_rooms = 3 **OR** num_bathrooms = 3"
   ]
  },
  {
   "cell_type": "code",
   "execution_count": 58,
   "metadata": {},
   "outputs": [
    {
     "data": {
      "text/plain": [
       "8591"
      ]
     },
     "execution_count": 58,
     "metadata": {},
     "output_type": "execute_result"
    }
   ],
   "source": [
    "num_3_or = df[(df['num_rooms']==3)|(df['num_bathrooms']==3)]\n",
    "len(num_3_or)"
   ]
  },
  {
   "cell_type": "markdown",
   "metadata": {},
   "source": [
    "In the Year 2022, how many houses (rows) located in the Greenwich Locality have exactly num_room == 3, and facing towards either the North or East?"
   ]
  },
  {
   "cell_type": "code",
   "execution_count": 59,
   "metadata": {},
   "outputs": [
    {
     "data": {
      "text/plain": [
       "42"
      ]
     },
     "execution_count": 59,
     "metadata": {},
     "output_type": "execute_result"
    }
   ],
   "source": [
    "facing = df[(df['Year']==2022) & (df['Locality']=='Greenwich') & (df['num_rooms']==3) & ((df['Face']=='North') | (df['Face']=='East'))]\n",
    "len(facing)"
   ]
  },
  {
   "cell_type": "markdown",
   "metadata": {},
   "source": [
    "Calculate the number of samples(rows) that correspond to the month of August across all the years.?"
   ]
  },
  {
   "cell_type": "code",
   "execution_count": 70,
   "metadata": {},
   "outputs": [
    {
     "data": {
      "text/plain": [
       "1050"
      ]
     },
     "execution_count": 70,
     "metadata": {},
     "output_type": "execute_result"
    }
   ],
   "source": [
    "df['Month'] = df['Date'].apply(lambda x:  x.split(\"-\")[1])\n",
    "august = df[df['Month']=='08']\n",
    "len(august)\n"
   ]
  },
  {
   "cell_type": "markdown",
   "metadata": {},
   "source": [
    "According to the data which Locality have highest average Sale Price?\n",
    "\n",
    "A) Waterbury\n",
    "\n",
    "B) Bridgeport\n",
    "\n",
    "C) Greenwich\n",
    "\n",
    "D) Norwalk\n",
    "\n",
    "E) Fairfield\n",
    "\n",
    "F) West Hartford\n",
    "\n",
    "G) Stamford\n"
   ]
  },
  {
   "cell_type": "code",
   "execution_count": 83,
   "metadata": {},
   "outputs": [
    {
     "data": {
      "text/plain": [
       "Locality\n",
       "Bridgeport       1.740953e+05\n",
       "Fairfield        7.277225e+05\n",
       "Greenwich        2.270224e+06\n",
       "Norwalk          5.590959e+05\n",
       "Stamford         6.305313e+05\n",
       "Waterbury        1.062152e+05\n",
       "West Hartford    3.385472e+05\n",
       "Name: Sale Price, dtype: float64"
      ]
     },
     "execution_count": 83,
     "metadata": {},
     "output_type": "execute_result"
    }
   ],
   "source": [
    "sales_price = df.groupby('Locality')['Sale Price'].mean()\n",
    "sales_price"
   ]
  },
  {
   "cell_type": "code",
   "execution_count": null,
   "metadata": {},
   "outputs": [],
   "source": []
  }
 ],
 "metadata": {
  "language_info": {
   "name": "python"
  }
 },
 "nbformat": 4,
 "nbformat_minor": 2
}
